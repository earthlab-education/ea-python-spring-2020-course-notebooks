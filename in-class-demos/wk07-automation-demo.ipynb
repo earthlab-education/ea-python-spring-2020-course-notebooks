{
 "cells": [
  {
   "cell_type": "markdown",
   "metadata": {},
   "source": [
    "## Review of NDVI workflow\n",
    "\n",
    "Below we will review the workflow to calculate a difference NDVI from two dates (e.g. pre and post fire event).  "
   ]
  },
  {
   "cell_type": "code",
   "execution_count": null,
   "metadata": {},
   "outputs": [],
   "source": [
    "# Import necessary packages\n",
    "import os\n",
    "from glob import glob\n",
    "import matplotlib.pyplot as plt\n",
    "import numpy as np\n",
    "from shapely.geometry import box\n",
    "import geopandas as gpd\n",
    "import rasterio as rio\n",
    "from rasterio.plot import plotting_extent\n",
    "from rasterio.mask import mask\n",
    "import earthpy as et\n",
    "import earthpy.spatial as es\n",
    "import earthpy.plot as ep\n",
    "\n",
    "# Get data and set working directory\n",
    "data = et.data.get_data('cold-springs-fire')\n",
    "os.chdir(os.path.join(et.io.HOME, 'earth-analytics'))"
   ]
  },
  {
   "cell_type": "code",
   "execution_count": null,
   "metadata": {},
   "outputs": [],
   "source": [
    "# Open fire boundary\n",
    "fire_bound_path = os.path.join(\"data\", \"cold-springs-fire\", \"vector_layers\",\n",
    "                               \"fire-boundary-geomac\", \"co_cold_springs_20160711_2200_dd83.shp\")\n",
    "fire_bound = gpd.read_file(fire_bound_path)\n",
    "\n",
    "naip_2015_path = os.path.join(\"data\", \"cold-springs-fire\", \"naip\",\n",
    "                              \"m_3910505_nw_13_1_20150919\", \"crop\",\n",
    "                              \"m_3910505_nw_13_1_20150919_crop.tif\")\n",
    "\n",
    "# Add path for your download of the naip_2017 data\n",
    "\n",
    "\n",
    "# Open 2015 data\n",
    "\n",
    "\n",
    "# Open 2017 data and crop to the boundary of the 2015 data\n",
    "\n"
   ]
  },
  {
   "cell_type": "code",
   "execution_count": null,
   "metadata": {},
   "outputs": [],
   "source": [
    "# Calculate ndvi for 2015 and 2017 NAIP data\n",
    "naip_ndvi_2015 = es.normalized_diff(naip_2015_crop[3], naip_2015_crop[0])\n",
    "naip_ndvi_2017 = es.normalized_diff(\n",
    "    naip_2017_crop[3].astype(int), naip_2017_crop[0].astype(int))\n",
    "\n",
    "# Calculate NDVI Difference: post minus pre\n",
    "ndvi_diff = naip_ndvi_2017 - naip_ndvi_2015"
   ]
  },
  {
   "cell_type": "code",
   "execution_count": null,
   "metadata": {},
   "outputs": [],
   "source": [
    "# Plot difference NDVI\n",
    "fig, ax = plt.subplots(figsize=(12,12))\n",
    "\n",
    "ep.plot_bands(ndvi_diff,\n",
    "              cmap='PiYG',\n",
    "              #extent=naip_2015_extent,\n",
    "              #scale=False,\n",
    "              ax=ax,\n",
    "              title=\"NAIP NDVI Difference -  \\n Post minus Pre fire (2017 - 2015)\")\n",
    "\n",
    "fire_bound_utmz13.plot(ax=ax, color='None', edgecolor='black', linewidth=2)\n",
    "\n",
    "plt.show()"
   ]
  },
  {
   "cell_type": "markdown",
   "metadata": {},
   "source": [
    "## Review of os and glob\n",
    "\n",
    "The section below provides a review of `glob` and `os`, plus includes some new functionality in `os` that you have not learned to parse file names.\n",
    "\n",
    "Using `glob` to create lists and `os` to parse file names are handy tasks when you are trying to automate workflows!"
   ]
  },
  {
   "cell_type": "code",
   "execution_count": null,
   "metadata": {},
   "outputs": [],
   "source": [
    "# Download data\n",
    "data2 = et.data.get_data(\"ndvi-automation\")"
   ]
  },
  {
   "cell_type": "markdown",
   "metadata": {},
   "source": [
    "## Create Directories that Work Across Operating Systems - os.path.join\n",
    "\n",
    "When you are working across different computers and platforms, it is useful to create paths that can be recognized by the Windows, Mac and Linux operating systems. The `join()` function from the `os.path` module creates a path in the format that the operating system upon which the code is being run (i.e. whatever your computer is running) requires.\n",
    "\n",
    "This saves you the time of creating and fixing paths as you work on different machines. This approach becomes very useful when you need to move your workflow from say your laptop to a cloud or HPC environment. \n",
    "\n",
    "`os.path.join` takes as many strings are you provide in. It reads each string as a directory name and then creates an output path.\n",
    "\n",
    "`os.path.join(\"dir1\", \"dir2\", \"dir3\")`\n",
    "\n",
    "IMPORTANT: you can create bad paths this way! This function does not actually test to ensure the path exists!"
   ]
  },
  {
   "cell_type": "code",
   "execution_count": null,
   "metadata": {},
   "outputs": [],
   "source": [
    "# Create a path\n",
    "path = os.path.join(\"data\", \"ndvi-automation\", \"sites\")\n",
    "path"
   ]
  },
  {
   "cell_type": "code",
   "execution_count": null,
   "metadata": {},
   "outputs": [],
   "source": [
    "# Does the path exist?\n",
    "os.path.exists(path)"
   ]
  },
  {
   "cell_type": "code",
   "execution_count": null,
   "metadata": {},
   "outputs": [],
   "source": [
    "# This path doesn't exist\n",
    "path2 = os.path.join(\"Data\", \"NDVI-automation\", \"Sites\")\n",
    "os.path.exists(path2)"
   ]
  },
  {
   "cell_type": "markdown",
   "metadata": {},
   "source": [
    "## Get Lists of Files Using glob and path.join\n",
    "\n",
    "In a workflow where you are processing many files and directories, you can use `glob` with `path.join` to create a path and get a list of files in that path. \n",
    "\n",
    "By default, `glob()` returns only the files within that directory. "
   ]
  },
  {
   "cell_type": "code",
   "execution_count": null,
   "metadata": {},
   "outputs": [],
   "source": [
    "# There are no individual files within the sites directory on this machine\n",
    "path = os.path.join(\"data\", \"ndvi-automation\", \"sites\")\n",
    "glob(path)"
   ]
  },
  {
   "cell_type": "markdown",
   "metadata": {},
   "source": [
    "You can add the syntax `*/` to tell glob to provide a list of directories rather than files. "
   ]
  },
  {
   "cell_type": "code",
   "execution_count": null,
   "metadata": {},
   "outputs": [],
   "source": [
    "# Add a trailing slash to force listing of directories\n",
    "another_path = os.path.join(\"data\", \"ndvi-automation\", \"sites\")\n",
    "all_sites = glob(os.path.join(another_path, \"*/\"))\n",
    "all_sites"
   ]
  },
  {
   "cell_type": "markdown",
   "metadata": {},
   "source": [
    "You can nest the above steps into one step as well."
   ]
  },
  {
   "cell_type": "code",
   "execution_count": null,
   "metadata": {},
   "outputs": [],
   "source": [
    "# This single line of code is the same as the line of code above\n",
    "glob(os.path.join(\"data\", \"ndvi-automation\", \"sites\", \"*/\"))"
   ]
  },
  {
   "cell_type": "markdown",
   "metadata": {},
   "source": [
    "Once you have a list of directories, you could loop through each directory and do something with data within that directory."
   ]
  },
  {
   "cell_type": "code",
   "execution_count": null,
   "metadata": {},
   "outputs": [],
   "source": [
    "# Print out all site directories\n",
    "for site_files in all_sites:\n",
    "    print(site_files)"
   ]
  },
  {
   "cell_type": "markdown",
   "metadata": {},
   "source": [
    "If you want to create a list of all directories within the landsat_crop dir of each site subdirectory, there are a few ways to do this! \n",
    "\n",
    "We'll look at three here. The first is using for loops to go through the directories."
   ]
  },
  {
   "cell_type": "code",
   "execution_count": null,
   "metadata": {
    "scrolled": false
   },
   "outputs": [],
   "source": [
    "# Define the directory name\n",
    "landsat_dir = \"landsat-crop\"\n",
    "\n",
    "# Loop through each site directory\n",
    "for site_files in all_sites:\n",
    "\n",
    "    # Get a list of subdirectories for that site\n",
    "    new_path = os.path.join(site_files, landsat_dir)\n",
    "    all_dirs = glob(new_path + \"/*/\")\n",
    "\n",
    "    # Loop and print the path for each subdirectory\n",
    "    for adir in all_dirs:\n",
    "        print(adir)"
   ]
  },
  {
   "cell_type": "markdown",
   "metadata": {},
   "source": [
    "The second way to get this list uses the * syntax in `glob` to customize the list of folders returned. Remember, anywhere in a file path you want to be variable you can replace with a `*`. \n",
    "\n",
    "Seeing as this is the case, we can get all of the folders within the `landsat-crop` folders by specifying the middle folder, as shown below. Notice how it finds everything within the `landsat-crop` folder in both the HARV and SJER folders.  "
   ]
  },
  {
   "cell_type": "code",
   "execution_count": null,
   "metadata": {},
   "outputs": [],
   "source": [
    "glob(os.path.join(\"data\", \"ndvi-automation\", \"sites\", \"*\", \"landsat-crop\", \"*\"))"
   ]
  },
  {
   "cell_type": "markdown",
   "metadata": {},
   "source": [
    "This way works with glob well, but there's another way to get this list using `glob`! \n",
    "\n",
    "By forcing only listing directories with a trailing /, we can make `glob` return this same list of direcotries without specifying the `landsat-crop` folder. \n",
    "\n",
    "This only works because none of the other directories within the `HARV` and `SJER` directories contain more directories, they all store individual files. "
   ]
  },
  {
   "cell_type": "code",
   "execution_count": null,
   "metadata": {},
   "outputs": [],
   "source": [
    "glob(os.path.join(\"data\", \"ndvi-automation\", \"sites\", \"*\", \"*\", \"*/\"))"
   ]
  },
  {
   "cell_type": "markdown",
   "metadata": {},
   "source": [
    "### Sorting `glob` Lists\n",
    "\n",
    "Notice that these lists aren't sorted. If it's important for a list to be in a certain order (such as satellite bands, for example) than make sure to sort the list after glob gives it to you.\n",
    "\n",
    "Sorting can be unreliable, so make sure that your sort is in the order you thought it would be in before you move on with your project! \n",
    "\n",
    "For example, if two items have identical path names, but one ends in `10` and the other ends in `1`, sometimes the file ending in `10` will be put above the file ending in `1`. Always double check!"
   ]
  },
  {
   "cell_type": "code",
   "execution_count": null,
   "metadata": {},
   "outputs": [],
   "source": [
    "# Sort the list glob returned\n",
    "sorted(glob(os.path.join('data', 'ndvi-automation', 'sites', 'HARV',\n",
    "                         'landsat-crop', 'LC080130302017072301T1-SC20181023152048', '*band*')))"
   ]
  },
  {
   "cell_type": "markdown",
   "metadata": {},
   "source": [
    "### Why Sort `glob` Lists?\n",
    "\n",
    "The way that `glob` returns files from a folder can vary drastically. Depending on the operating system being used, or the way the files are stored, different people may get results from a `glob` list in different orders. This can lead to data errors when running projects across computers. Below shows how sorting a `glob` list changes what files you access when getting an index from the list. Notice how the same index (4) returns two different files. "
   ]
  },
  {
   "cell_type": "code",
   "execution_count": null,
   "metadata": {},
   "outputs": [],
   "source": [
    "# Indexes can change once a list is sorted!\n",
    "unsorted_list = glob(os.path.join('data', 'ndvi-automation', 'sites', 'HARV',\n",
    "                                  'landsat-crop', 'LC080130302017072301T1-SC20181023152048', '*band*'))\n",
    "\n",
    "sorted_list = sorted(glob(os.path.join('data', 'ndvi-automation', 'sites', 'HARV',\n",
    "                                       'landsat-crop', 'LC080130302017072301T1-SC20181023152048', '*band*')))\n",
    "unsorted_list[4], sorted_list[4]"
   ]
  },
  {
   "cell_type": "markdown",
   "metadata": {},
   "source": [
    "### Using Ranges\n",
    "\n",
    "In addition to using `*` to specify which parts of a file name are important to you, you can use `[]` to specify a range of characters to search for. This range is for characters only, not strings. You can search for numbers 2-7 with `[2-7]` but you would not be able to search for number `[2-14]` as `14` is a string, not a character. \n",
    "\n",
    "This is not just limited to numbers. `[d-q]` would also filter results for characters between the letters `d` and `q`. "
   ]
  },
  {
   "cell_type": "code",
   "execution_count": null,
   "metadata": {},
   "outputs": [],
   "source": [
    "# Get a range of data\n",
    "glob(os.path.join('data', 'ndvi-automation', 'sites', 'HARV',\n",
    "                  'landsat-crop', 'LC080130302017072301T1-SC20181023152048', '*band[1-3]*'))"
   ]
  },
  {
   "cell_type": "code",
   "execution_count": null,
   "metadata": {},
   "outputs": [],
   "source": [
    "# Get a date range incorrectly\n",
    "# NOTE: [2017-2018] does not work here since those are strings, not characters.\n",
    "glob(os.path.join('data', 'ndvi-automation', 'sites', 'HARV',\n",
    "                  'landsat-crop', '*201[7-8]*'))"
   ]
  },
  {
   "cell_type": "markdown",
   "metadata": {},
   "source": [
    "### `?` Operator\n",
    "\n",
    "Similar to the `*` operator, the `?` operator is the same idea, but for a single character. \n",
    "\n",
    "If one character in the file name can be variable, but everything else must stay the same, than `?` is a good way to just replace that one character. \n",
    "\n",
    "`?` is not limited to one use per search, and can be used to replace more than one character in a query. "
   ]
  },
  {
   "cell_type": "code",
   "execution_count": null,
   "metadata": {},
   "outputs": [],
   "source": [
    "# ? operator\n",
    "glob(os.path.join('data', 'ndvi-automation', 'sites', 'HARV',\n",
    "                  'landsat-crop', 'LC080130302017072301T1-SC20181023152048', '*band?.tif'))"
   ]
  },
  {
   "cell_type": "code",
   "execution_count": null,
   "metadata": {},
   "outputs": [],
   "source": [
    "# Multiple ? operators\n",
    "glob(os.path.join('data', 'ndvi-automation', 'sites', 'HARV',\n",
    "                  'landsat-crop', 'LC080130302017072301T1-SC20181023152048', '*band?????'))"
   ]
  },
  {
   "cell_type": "markdown",
   "metadata": {},
   "source": [
    "## Grab Parts of a Directory Path\n",
    "\n",
    "There are several ways that you can grab just a part of a path. Sometimes a file path has metadata in it that can be useful for creating useful variable names in your script. In your NDVI workflow, you may want to grab the site name from the directory path to use for your workflow. \n",
    "\n",
    "You can use a combination of `normpath()` and `basename()` functions from `os.path` to access the last directory in a path. In your case, this path contains your site name!\n"
   ]
  },
  {
   "cell_type": "code",
   "execution_count": null,
   "metadata": {},
   "outputs": [],
   "source": [
    "# Example of normpath cleaning up path\n",
    "example_path = \"home//user//example_dir\"\n",
    "os.path.normpath(example_path)"
   ]
  },
  {
   "cell_type": "code",
   "execution_count": null,
   "metadata": {},
   "outputs": [],
   "source": [
    "# Use normpath and basename together to get the last directory\n",
    "sitename = os.path.basename(os.path.normpath(site_files))\n",
    "sitename"
   ]
  },
  {
   "cell_type": "markdown",
   "metadata": {},
   "source": [
    "There are endless ways to use the sitename as a variable in an automated workflow."
   ]
  },
  {
   "cell_type": "code",
   "execution_count": null,
   "metadata": {},
   "outputs": [],
   "source": [
    "# Create a file name needed to open a file\n",
    "print(os.path.join(site_files, \"vector\", sitename + \"-crop.shp\"))\n",
    "\n",
    "# Create an output path to an output csv file\n",
    "print(os.path.join('data', \"ndvi-automation\", \"outputs\", \"final.csv\"))"
   ]
  },
  {
   "cell_type": "markdown",
   "metadata": {},
   "source": [
    "If you want to grab both the last directory name and the path prior to that directory, you can use `os.path.split` with `normpath()`."
   ]
  },
  {
   "cell_type": "code",
   "execution_count": null,
   "metadata": {},
   "outputs": [],
   "source": [
    "os.path.split(os.path.normpath(site_files))"
   ]
  },
  {
   "cell_type": "markdown",
   "metadata": {},
   "source": [
    "## Parse Text From Directory Names\n",
    "\n",
    "There are numerous options to parse text from a file path. In your homework, you need to grab the date when each Landsat scene was collected. To grab just the date from the directory, you will need to:\n",
    "\n",
    "1. get the full directory path\n",
    "2. find the date embedded within the path name\n",
    "\n",
    "If you refer back to the Landsat metadata, you will see that every scene has the same naming convention. \n",
    "\n",
    "This means that you can count the characters (i.e. indices) in the directory name to find the collection date (which is the first date in the string) and use the same indices for every scene!\n",
    "\n",
    "In this case, you can find the date using a string index like this:\n",
    "\n",
    "`astring[startindex:endindex]`"
   ]
  },
  {
   "cell_type": "code",
   "execution_count": null,
   "metadata": {},
   "outputs": [],
   "source": [
    "# View directory name\n",
    "dir_name = os.path.basename(os.path.normpath(adir))"
   ]
  },
  {
   "cell_type": "code",
   "execution_count": null,
   "metadata": {},
   "outputs": [],
   "source": [
    "# Get landsat date from directory name\n",
    "date = dir_name[10:18]\n",
    "date"
   ]
  },
  {
   "cell_type": "markdown",
   "metadata": {},
   "source": [
    "You can also break the entire path apart, if you need to do so, using `string_name.split()`.\n",
    "\n",
    "`.split()` is a built in python function that splits a string into a list of strings based on a seperator \n",
    "character. For file paths, `os.sep` is a system friendly way to seperate file paths into their base parts. "
   ]
  },
  {
   "cell_type": "code",
   "execution_count": null,
   "metadata": {},
   "outputs": [],
   "source": [
    "# Break paths into components\n",
    "path = os.path.normpath(adir)\n",
    "path.split(os.sep)"
   ]
  },
  {
   "cell_type": "markdown",
   "metadata": {},
   "source": [
    "As you see, `string_name.split()` produces a list that you can query to get a specific component."
   ]
  },
  {
   "cell_type": "code",
   "execution_count": null,
   "metadata": {},
   "outputs": [],
   "source": [
    "# Get the site name from the path\n",
    "path_components = path.split(os.sep)\n",
    "path_components[3]"
   ]
  }
 ],
 "metadata": {
  "celltoolbar": "Tags",
  "hide_code_all_hidden": false,
  "kernelspec": {
   "display_name": "Python 3",
   "language": "python",
   "name": "python3"
  },
  "language_info": {
   "codemirror_mode": {
    "name": "ipython",
    "version": 3
   },
   "file_extension": ".py",
   "mimetype": "text/x-python",
   "name": "python",
   "nbconvert_exporter": "python",
   "pygments_lexer": "ipython3",
   "version": "3.7.6"
  },
  "toc": {
   "toc_cell": false,
   "toc_number_sections": false,
   "toc_threshold": "2",
   "toc_window_display": false
  },
  "varInspector": {
   "cols": {
    "lenName": 16,
    "lenType": 16,
    "lenVar": 40
   },
   "kernels_config": {
    "python": {
     "delete_cmd_postfix": "",
     "delete_cmd_prefix": "del ",
     "library": "var_list.py",
     "varRefreshCmd": "print(var_dic_list())"
    },
    "r": {
     "delete_cmd_postfix": ") ",
     "delete_cmd_prefix": "rm(",
     "library": "var_list.r",
     "varRefreshCmd": "cat(var_dic_list()) "
    }
   },
   "types_to_exclude": [
    "module",
    "function",
    "builtin_function_or_method",
    "instance",
    "_Feature"
   ],
   "window_display": false
  }
 },
 "nbformat": 4,
 "nbformat_minor": 2
}
